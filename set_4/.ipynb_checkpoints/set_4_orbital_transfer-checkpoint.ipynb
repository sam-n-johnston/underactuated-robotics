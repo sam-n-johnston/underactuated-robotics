{
 "cells": [
  {
   "cell_type": "markdown",
   "metadata": {},
   "source": [
    "## Orbital Transfer via Trajectory Optimization\n",
    "\n",
    "In this problem we'll solve for trajectories that will efficiently transfer us from the orbit of one planet to another.\n",
    "\n",
    "We'll make a few simplifying assumptions about our model of physics for the world we're in:  (1) no relativistic effects, (2) the planets are point masses but are drawn with a massless atmosphere of gas so collisions don't matter, (3) the galaxy is 2D, and (4) the planets themselves do not move, and (5) this is a galaxy for ants, so we'll use \"meters\" to describe units of length."
   ]
  },
  {
   "cell_type": "markdown",
   "metadata": {},
   "source": [
    "### Dynamics\n",
    "\n",
    "First let's get familiar with what the dynamaics of our system look like.\n",
    "\n",
    "We are onboard a rocket which is nearby two planets.  If we apply no control, then the dynamics of our system play out like below:"
   ]
  },
  {
   "cell_type": "code",
   "execution_count": 1,
   "metadata": {},
   "outputs": [
    {
     "data": {
      "image/png": "[encoded data removed]",
      "text/plain": [
       "<Figure size 432x288 with 1 Axes>"
      ]
     },
     "metadata": {
      "needs_background": "light"
     },
     "output_type": "display_data"
    }
   ],
   "source": [
    "%reload_ext autoreload\n",
    "%autoreload 2\n",
    "import numpy as np\n",
    "\n",
    "# create a time array\n",
    "dt = 0.001\n",
    "num_time_steps = 4000\n",
    "time_array = np.arange(0.0, dt*num_time_steps, dt)\n",
    "\n",
    "# initial state\n",
    "state_initial = np.asarray([-2.0, 0.1, 0.1, 3.])\n",
    "\n",
    "from orbital_transfer import OrbitalTransferRocket\n",
    "\n",
    "rocket = OrbitalTransferRocket()\n",
    "trajectory = rocket.simulate_states_over_time_passive(state_initial, time_array)\n",
    "\n",
    "%matplotlib inline\n",
    "rocket.plot_trajectory(trajectory)"
   ]
  },
  {
   "cell_type": "markdown",
   "metadata": {},
   "source": [
    "### Getting familiar with rocket dynamics\n",
    "\n",
    "At this time we recommend you start look in `orbital_transfer.py` to understand how the provided components of the `OrbitalTransferRocket` class work.  In case you're wondering, for example if you implement your own system as part of the class project, the dynamics for this one were adapted from the simple orbital mechanics writeup [here](https://astronomy.stackexchange.com/questions/7806/exercise-2d-orbital-mechanics-simulation-python/7814#7814), and just modified to have two non-movable planets, a third body as the rocket, and rocket boosters on the rocket.\n",
    "\n",
    "### Rocket Booster Control\n",
    "\n",
    "Rather than hopelessly spin about space though, we have rocket boosters and are not afraid to use them.\n",
    "\n",
    "In particular let's assume we have two boosters onboard that are facing orthogonal to each other. Since we are in 2D, this is all we need in order to be able to choose our acceleration at any one point in time. Note that we are not concerned about the rotation of the rocket itself.  You may recall that this system is classically known as a *double integrator*, so effectively our system here is a double integrator in a gravitational field.\n",
    "\n",
    "We can now choose a trajectory over time of control inputs, and change our fate of where we end up in the galaxy."
   ]
  },
  {
   "cell_type": "code",
   "execution_count": 2,
   "metadata": {},
   "outputs": [
    {
     "data": {
      "image/png": "[encoded data removed]",
      "text/plain": [
       "<Figure size 432x288 with 1 Axes>"
      ]
     },
     "metadata": {
      "needs_background": "light"
     },
     "output_type": "display_data"
    }
   ],
   "source": [
    "# Choose a sinusoidal oscillation of control inputs over time and see what happens\n",
    "input_trajectory_x = np.cos(time_array)*.1\n",
    "input_trajectory_y = np.sin(time_array)*.5\n",
    "input_trajectory = np.vstack((input_trajectory_x, input_trajectory_y)).T\n",
    "input_trajectory = input_trajectory[:-1]\n",
    "# Note that the shape of the input_trajectory is documented in orbital_transfer.py\n",
    "\n",
    "trajectory = rocket.simulate_states_over_time(state_initial, time_array, input_trajectory)\n",
    "rocket.plot_trajectory_with_boosters(trajectory, input_trajectory)"
   ]
  },
  {
   "cell_type": "markdown",
   "metadata": {},
   "source": [
    "Note that here we are using the term \"input trajectory\", which refers to the sequence of control inputs over time.  In robot world we'll also sometimes call this the \"u tape\", since it's a tape over time of u's, where $u$ is the control input. An input trajectory is simply:\n",
    "\n",
    "$$ u_{0}, u_1, ..., u_{N-1}$$\n",
    "\n",
    "for some sequence of statse:\n",
    "\n",
    "$$ x_{0}, x_1, ..., x_{N-1}, x_{N}$$\n",
    "\n",
    "Given some initial state $x_0$ and an input trajectory over time, that is sufficient to simulate, together with the dynamics, how the system will involve.  You can find more documentation about the args/return values of various functions used here inside `orbital_transfer.py`."
   ]
  },
  {
   "cell_type": "markdown",
   "metadata": {},
   "source": [
    "### Implementing the Trajectory Optimization\n",
    "\n",
    "Your mission is to compute input trajectories that will take our rocket from orbiting the planet on the left, over to orbiting the planet on the right.\n",
    "\n",
    "To succeed on this task, you are welcome to use any method you like, although we will certainly suggest a set of tools for you to use.\n",
    "\n",
    "In particular your mission is to implement a function with this signature inside `OrbitalTransferRocket`:\n",
    "\n",
    "```python\n",
    "\n",
    " def compute_trajectory_to_other_world(self, state_initial, minimum_time, maximum_time):\n",
    "    '''\n",
    "    See orbital_transfer.py for more documentation\n",
    "    '''\n",
    "    \n",
    "    # Please note: three return args\n",
    "    return trajectory, input_trajectory, time_array\n",
    "\n",
    "```\n",
    "\n",
    "\n",
    "\n",
    "There are a handful of components to what constitute successful trajectories.  Successful trajectories must:\n",
    "\n",
    "#### 1) Efficiently conserve fuel. \n",
    "\n",
    "At each time step, this rocket consumes fuel according to \n",
    "\n",
    "$$\\text{|fuel_used|}^2 = k * |\\text{total acceleration}|$$ \n",
    "\n",
    "for some constant $k$. This means that a running quadratic cost on control input correlates with measuring\n",
    "fuel consumption (for evenly spaced time intervals).\n",
    "\n",
    "\n",
    "#### 2) Reach \"orbit\" of the far right world\n",
    "\n",
    "The far right world is defined by `self.world_2_position`.  We will use this relaxed definition of orbit:\n",
    "\n",
    "1. The rocket must have a total final speed lower than: 1 meter per second\n",
    "2. The rocket must be .5 meters away from world_2_position\n",
    "    \n",
    "It turns out the rocket already has a fantastic different controller to then enter a proper orbit by achieving orbital velocity (all velocity is tangent to the orbit, and precisely at the right orbital speed).\n",
    "\n",
    "By relaxing this final constraint, it makes it easier for our solvers.\n",
    "\n",
    "#### 3) Approximately obey dynamic constraints\n",
    "\n",
    "You are allowed to either exactly obey, or approximately obey (can add slack < .001) for each time step of the trajectory.\n",
    "\n",
    "#### 4) Begin at the state_initial provided\n",
    "\n",
    "#### 5) Take no more than maximum_time, no less than minimum_time"
   ]
  },
  {
   "cell_type": "markdown",
   "metadata": {},
   "source": [
    "### Suggested tools for implementing the trajectory optimization\n",
    "\n",
    "We've provided a reference notebook, `optimization_and_traj_opt_examples.ipynb`, which has some hopefully useful snippets of code for you to learn the following:\n",
    "\n",
    "1. Writing down optimization problems, using pydrake's `MathematicalProgram`\n",
    "2. Using `MathematicalProgram` to implement simple examples of trajectory optimization.\n",
    "\n",
    "Note that the trajectory optimization examples provided in that example notebook uses an unconstrained shooting method.  For this problem we highly suggest you use the Direct Transcription method which you can find described in the *Underactuated* textbook. \n",
    "  \n",
    "It's also worth noting how different tools can fit together:\n",
    "\n",
    "- We have implemented `OrbitalTransferRocket` as a Python class which basically only has `numpy` as a dependency, plus some simple `matplotlib` plotting tools.\n",
    "- `MathematicalProgram`, however, can be used from pydrake to implement optimizations we're interested in, in particular to design trajectories for the `OrbitalTransferRocket` which itself doesn't depend on pydrake.\n",
    "\n",
    "This is another option for how to put tools together.  A different example is provided by the single legged hopper part of this problem set, which is a implemented as a Drake system (inherits from `VectorSystem`) and uses Drake to do the simulation by brining in the robot model from an `.sdf` description.\n",
    "\n",
    "  \n",
    "** Optional note to read in case you're interested:  The reason that Direct Transcription will work much better for this problem is that we will be using symbolic gradients, which will quickly become very complicated for long, unconstrained, and dynamically complicated trajectories that would come out of a shooting method.  Shooting might work OK with \"autodiff\" gradients, but Direct Transcription should work well with symbolic gradients for a problem of this size(and autodiff too), and it's a good learning opportunity to do this way."
   ]
  },
  {
   "cell_type": "markdown",
   "metadata": {},
   "source": [
    "### Hints\n",
    "\n",
    "- You'll need to use a much coarser discretization of time than in the simulations provided above, in order to keep the number of decision variables reasonably low.  We call each of the time discretizations of the trajectory optimization a \"knot point\". We recommend ~50-100 knot points for this problem.\n",
    "- You may need to add constraints so that the dynamics don't get too crazy during the search.  Think about a coule of simple guidelines that you want to give the optimization.  Do you want to ever want to go infininetly far away from the planets?  Do you want to be too close?"
   ]
  },
  {
   "cell_type": "markdown",
   "metadata": {},
   "source": [
    "### Final notes for this problem\n",
    "\n",
    "- You do not need to change anything about this notebook, the only functions that will be used for testing are those from `orbital_transfer.py`\n",
    "- Feel free to add any helper functions, plotting tools, etc that you'd like to add\n",
    "- Trajectory optimization is both very powerful but also can have unexpected effects.  Please ask on Piazza, work with others in the class, and/or come to office hours if you have questions.\n",
    "- Note that Drake has excellent implementations of trajectory optimization already, which you may find useful for reference.  At this time of writing, Drake's own trajectory optimization can be called from pydrake, but only for systems which have been implemented in C++ (see the acrobot, cartpole, pendulum examples in the textbook).  By this time next week or two, though, it will be possible to call pydrake's own trajectory optimization from Python-implemented classes.\n",
    "- We think you'll gain a lot by completing the challenge of implementing your own trajectory optimization.  While a successful solution won't be that many lines of code, it may require some careful consideration.\n",
    "- Good luck and happy orbit transfering!"
   ]
  },
  {
   "cell_type": "code",
   "execution_count": 11,
   "metadata": {},
   "outputs": [
    {
     "name": "stdout",
     "output_type": "stream",
     "text": [
      "('Success', True)\n",
      "('Final position', array([ 2.00472467,  0.03915305,  0.95590137, -0.21412281]))\n",
      "('Final distance to world2', 0.50000000000048428)\n",
      "('Final speed', 0.98010000000637865)\n",
      "('Fuel consumption', 10.751850653271079)\n"
     ]
    },
    {
     "data": {
      "image/png": "[encoded data removed]",
      "text/plain": [
       "<Figure size 432x288 with 1 Axes>"
      ]
     },
     "metadata": {
      "needs_background": "light"
     },
     "output_type": "display_data"
    }
   ],
   "source": [
    "# Invokes your trajectory optimization\n",
    "%reload_ext autoreload\n",
    "%autoreload 2\n",
    "%matplotlib inline\n",
    "import numpy as np\n",
    "from orbital_transfer import OrbitalTransferRocket\n",
    "rocket = OrbitalTransferRocket()\n",
    "\n",
    "# x0 = np.array([-2., 0.1, -0.1, 3.])\n",
    "x0 = np.array([-2., 0.4, -0.1, 3.])\n",
    "minimum_time = 5.\n",
    "maximum_time = 15.\n",
    "traj, u_traj, time_array = rocket.compute_trajectory_to_other_world(x0, minimum_time, maximum_time)\n",
    "rocket.plot_trajectory_with_boosters(traj, u_traj)"
   ]
  },
  {
   "cell_type": "markdown",
   "metadata": {},
   "source": [
    "## Run tests"
   ]
  },
  {
   "cell_type": "code",
   "execution_count": null,
   "metadata": {},
   "outputs": [],
   "source": [
    "import os\n",
    "# Run the tests\n",
    "os.popen(\"python test_set_4.py ./test_results.json\")\n",
    "\n",
    "# Print the results json for review\n",
    "import test_set_4\n",
    "print test_set_4.pretty_format_json_results(\"test_results.json\")"
   ]
  }
 ],
 "metadata": {
  "kernelspec": {
   "display_name": "Python 2",
   "language": "python",
   "name": "python2"
  },
  "language_info": {
   "codemirror_mode": {
    "name": "ipython",
    "version": 2
   },
   "file_extension": ".py",
   "mimetype": "text/x-python",
   "name": "python",
   "nbconvert_exporter": "python",
   "pygments_lexer": "ipython2",
   "version": "2.7.12"
  }
 },
 "nbformat": 4,
 "nbformat_minor": 2
}
