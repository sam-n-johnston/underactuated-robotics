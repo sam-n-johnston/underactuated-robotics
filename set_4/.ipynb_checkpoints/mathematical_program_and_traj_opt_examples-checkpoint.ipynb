{
 "cells": [
  {
   "cell_type": "markdown",
   "metadata": {},
   "source": [
    "## How to use Mathematical Program to formulate optimizations for robots"
   ]
  },
  {
   "cell_type": "markdown",
   "metadata": {},
   "source": [
    "Before working on this notebook, please go through the `mathematical_program_and_sos_examples.ipynb` from the last problem set. That notebook introduces the API for the `MathematicalProgram` class.\n",
    "\n",
    "Let's imagine we have a ball that we want to shoot ballistically out of a cannon to a certain point in space.\n",
    "\n",
    "Our cannon is very sophisticated and let's us choose precisely the intial velocity of the ball, but once the ball has left the cannon, it's out of our control.\n",
    "\n",
    "We can set up a very simple sim below to simulate this ball."
   ]
  },
  {
   "cell_type": "code",
   "execution_count": 1,
   "metadata": {},
   "outputs": [
    {
     "name": "stdout",
     "output_type": "stream",
     "text": [
      "(1000, 4)\n"
     ]
    },
    {
     "data": {
      "image/png": "[encoded data removed]",
      "text/plain": [
       "<Figure size 432x288 with 1 Axes>"
      ]
     },
     "metadata": {
      "needs_background": "light"
     },
     "output_type": "display_data"
    }
   ],
   "source": [
    "from numpy import sin, cos\n",
    "import numpy as np\n",
    "import matplotlib.pyplot as plt\n",
    "import scipy.integrate as integrate\n",
    "import matplotlib.animation as animation\n",
    "from matplotlib.patches import Circle\n",
    "%matplotlib inline\n",
    "\n",
    "G = 9.8  # gravity, in m/s^2\n",
    "\n",
    "def dynamics(state, t):\n",
    "    ball_position = state[0:2]\n",
    "    derivs = np.zeros_like(state)\n",
    "    derivs[0:2] = state[2:4]\n",
    "    derivs[2]  = 0\n",
    "    derivs[3]  = -G\n",
    "    \n",
    "    return derivs\n",
    "\n",
    "dt = 0.001\n",
    "time_array = np.arange(0.0, 1, dt)\n",
    "\n",
    "state_initial = np.asarray([0, 0, 2, 4])\n",
    "\n",
    "# integrate using scipy integrate which will do runge-kutta integration probably\n",
    "state_over_time = integrate.odeint(dynamics, state_initial, time_array)\n",
    "\n",
    "print state_over_time.shape\n",
    "\n",
    "ball_position_x = state_over_time[:,0]\n",
    "ball_position_y = state_over_time[:,1]\n",
    "\n",
    "fig, axes = plt.subplots(nrows=1,ncols=1)\n",
    "axes.plot(ball_position_x, ball_position_y)\n",
    "circ = Circle((ball_position_x[-1],ball_position_y[-1]), radius=0.1, facecolor='k', edgecolor='white', fill=True ,linewidth = 2.0, linestyle='solid')\n",
    "axes.add_patch(circ)\n",
    "circ = Circle((5,5), radius=0.1, facecolor='green', edgecolor='white', fill=True ,linewidth = 2.0, linestyle='solid')\n",
    "axes.add_patch(circ)\n",
    "axes.axis('equal')\n",
    "plt.show()"
   ]
  },
  {
   "cell_type": "markdown",
   "metadata": {},
   "source": [
    "If our goal is to choose the initial velocity so that we make it to the green dot at the top right, then this is a problem we can solve.\n",
    "\n",
    "This is actually a problem that can be pretty easily solved in closed form, but it's also pretty easy to throw the optimization hammer at the problem."
   ]
  },
  {
   "cell_type": "code",
   "execution_count": 2,
   "metadata": {},
   "outputs": [
    {
     "name": "stdout",
     "output_type": "stream",
     "text": [
      "[ 5.      9.8951]\n"
     ]
    }
   ],
   "source": [
    "from pydrake.all import MathematicalProgram, Solve\n",
    "mp = MathematicalProgram()\n",
    "\n",
    "velocity_initial = mp.NewContinuousVariables(2, \"velocity_initial\")\n",
    "state_initial = np.asarray([0, 0, velocity_initial[0], velocity_initial[1]])\n",
    "\n",
    "num_time_steps = len(time_array)\n",
    "states_over_time = np.asarray([state_initial])\n",
    "\n",
    "for i in range(num_time_steps):\n",
    "    # Here this just uses euler integration\n",
    "    state_next = states_over_time[-1,:] + dt*dynamics(states_over_time[-1,:],0)\n",
    "    states_over_time = np.vstack((states_over_time, state_next))\n",
    "\n",
    "# Calculate final position error\n",
    "position_goal = np.asarray([5,5])\n",
    "final_position_error = position_goal - states_over_time[-1,0:2]\n",
    "\n",
    "mp.AddQuadraticCost((final_position_error).dot(final_position_error))\n",
    "result =  Solve(mp)\n",
    "print result.GetSolution(velocity_initial)\n",
    "optimal_initial_veloctiy = result.GetSolution(velocity_initial)"
   ]
  },
  {
   "cell_type": "code",
   "execution_count": 3,
   "metadata": {},
   "outputs": [
    {
     "name": "stdout",
     "output_type": "stream",
     "text": [
      "[ 0.      0.      5.      9.8951]\n",
      "(1000, 4)\n"
     ]
    },
    {
     "data": {
      "image/png": "[encoded data removed]",
      "text/plain": [
       "<Figure size 432x288 with 1 Axes>"
      ]
     },
     "metadata": {
      "needs_background": "light"
     },
     "output_type": "display_data"
    }
   ],
   "source": [
    "# Simulate given the initial velocity\n",
    "state = np.asarray([0, 0, optimal_initial_veloctiy[0], optimal_initial_veloctiy[1]])\n",
    "print state\n",
    "\n",
    "# We can check our euler integration back against the scipy integration\n",
    "state_over_time = integrate.odeint(dynamics, state, time_array)\n",
    "print state_over_time.shape\n",
    "\n",
    "ball_position_x = state_over_time[:,0]\n",
    "ball_position_y = state_over_time[:,1]\n",
    "\n",
    "fig, axes = plt.subplots(nrows=1,ncols=1)\n",
    "axes.plot(ball_position_x, ball_position_y)\n",
    "circ = Circle((ball_position_x[-1],ball_position_y[-1]), radius=0.1, facecolor='k', edgecolor='white', fill=True ,linewidth = 2.0, linestyle='solid')\n",
    "axes.add_patch(circ)\n",
    "circ = Circle((5,5), radius=0.1, facecolor='green', edgecolor='white', fill=True ,linewidth = 2.0, linestyle='solid')\n",
    "axes.add_patch(circ)\n",
    "axes.axis('equal')\n",
    "plt.show()"
   ]
  },
  {
   "cell_type": "markdown",
   "metadata": {},
   "source": [
    "In the first example optimization above, we used a quadratic cost on final position error.\n",
    "\n",
    "What if we just constrain the problem to exactly reach the position?  We can also, for example, add a quadratic cost on the total initial speed of the ball."
   ]
  },
  {
   "cell_type": "code",
   "execution_count": 4,
   "metadata": {},
   "outputs": [
    {
     "name": "stdout",
     "output_type": "stream",
     "text": [
      "[5 5]\n",
      "[ 5.      9.8951]\n"
     ]
    }
   ],
   "source": [
    "from pydrake.all import MathematicalProgram, Solve\n",
    "mp = MathematicalProgram()\n",
    "\n",
    "velocity_initial = mp.NewContinuousVariables(2, \"velocity_initial\")\n",
    "state_initial = np.asarray([0, 0, velocity_initial[0], velocity_initial[1]])\n",
    "\n",
    "num_time_steps = len(time_array)\n",
    "states_over_time = np.asarray([state_initial])\n",
    "\n",
    "for i in range(num_time_steps):\n",
    "    state_next = states_over_time[-1,:] + dt*dynamics(states_over_time[-1,:],0)\n",
    "    states_over_time = np.vstack((states_over_time, state_next))\n",
    "\n",
    "# Calculate final position error\n",
    "position_goal = np.asarray([5,5])\n",
    "final_position_error = position_goal - states_over_time[-1,0:2]\n",
    "\n",
    "mp.AddQuadraticCost(1 * velocity_initial.dot(velocity_initial))\n",
    "print position_goal\n",
    "mp.AddLinearConstraint(states_over_time[-1,0] >= position_goal[0])\n",
    "mp.AddLinearConstraint(states_over_time[-1,0] <= position_goal[0])\n",
    "mp.AddLinearConstraint(states_over_time[-1,1] >= position_goal[1])\n",
    "mp.AddLinearConstraint(states_over_time[-1,1] <= position_goal[1])\n",
    "result = Solve(mp)\n",
    "print result.GetSolution(velocity_initial)"
   ]
  },
  {
   "cell_type": "code",
   "execution_count": 5,
   "metadata": {},
   "outputs": [
    {
     "name": "stdout",
     "output_type": "stream",
     "text": [
      "[ 0.      0.      5.      9.8951]\n",
      "(1000, 4)\n"
     ]
    },
    {
     "data": {
      "image/png": "[encoded data removed]",
      "text/plain": [
       "<Figure size 432x288 with 1 Axes>"
      ]
     },
     "metadata": {
      "needs_background": "light"
     },
     "output_type": "display_data"
    }
   ],
   "source": [
    "# Simulate given the initial velocity\n",
    "state = np.asarray([0, 0, optimal_initial_veloctiy[0], optimal_initial_veloctiy[1]])\n",
    "print state\n",
    "\n",
    "# We can check our euler integration back against the scipy integration\n",
    "state_over_time = integrate.odeint(dynamics, state, time_array)\n",
    "print state_over_time.shape\n",
    "\n",
    "ball_position_x = state_over_time[:,0]\n",
    "ball_position_y = state_over_time[:,1]\n",
    "\n",
    "fig, axes = plt.subplots(nrows=1,ncols=1)\n",
    "axes.plot(ball_position_x, ball_position_y)\n",
    "circ = Circle((ball_position_x[-1],ball_position_y[-1]), radius=0.1, facecolor='k', edgecolor='white', fill=True ,linewidth = 2.0, linestyle='solid')\n",
    "axes.add_patch(circ)\n",
    "circ = Circle((5,5), radius=0.1, facecolor='green', edgecolor='white', fill=True ,linewidth = 2.0, linestyle='solid')\n",
    "axes.add_patch(circ)\n",
    "axes.axis('equal')\n",
    "plt.show()"
   ]
  },
  {
   "cell_type": "markdown",
   "metadata": {},
   "source": [
    "## Now what if we have a couple rocket boosters attached?\n",
    "\n",
    "The problem gets a little bit more interesting if we have a couple of rocket boosters attached to our ball.\n",
    "\n",
    "We can now ask this problem:\n",
    "\n",
    "  --> If for the first 100 time steps, we can use the rocket boosters on the ball to adjust its trajectory, then what can we do?"
   ]
  },
  {
   "cell_type": "code",
   "execution_count": 55,
   "metadata": {},
   "outputs": [
    {
     "name": "stdout",
     "output_type": "stream",
     "text": [
      "Number of decision vars 202\n",
      "velocity_initial computed [ 4.99954885  2.00950369]\n",
      "u_over_time x cost 0.474707163209\n",
      "u_over_time y cost 8287.33083284\n"
     ]
    },
    {
     "data": {
      "image/png": "[encoded data removed]",
      "text/plain": [
       "<Figure size 432x288 with 2 Axes>"
      ]
     },
     "metadata": {
      "needs_background": "light"
     },
     "output_type": "display_data"
    }
   ],
   "source": [
    "mp = MathematicalProgram()\n",
    "\n",
    "velocity_initial = mp.NewContinuousVariables(2, \"velocity_initial\")\n",
    "state_initial = np.asarray([0, 0, velocity_initial[0], velocity_initial[1]])\n",
    "\n",
    "num_time_steps = 1000\n",
    "states_over_time = np.asarray([state_initial])\n",
    "\n",
    "num_steps_with_boosters = 100\n",
    "\n",
    "k = 0\n",
    "u = mp.NewContinuousVariables(2, \"u_%d\" % k)\n",
    "u_over_time = u\n",
    "\n",
    "for k in range(1,num_steps_with_boosters):\n",
    "    u = mp.NewContinuousVariables(2, \"u_%d\" % k)\n",
    "    u_over_time = np.vstack((u_over_time, u))\n",
    "\n",
    "total_u = np.vstack((u_over_time,np.zeros((900,2))))\n",
    "    \n",
    "print \"Number of decision vars\", mp.num_vars()\n",
    "\n",
    "states_over_time = np.asarray([state_initial])\n",
    "def derivs_with_boosters(state, t):\n",
    "    index = int(t*num_time_steps)\n",
    "    u = total_u[index]\n",
    "    rocket_position = state[0:2]\n",
    "    derivs = np.zeros_like(state)\n",
    "    derivs[0:2] = state[2:4]\n",
    "    derivs[2]  = 0 + u[0]\n",
    "    derivs[3]  = -G + u[1]\n",
    "    \n",
    "    return derivs\n",
    "\n",
    "for i in range(num_time_steps):\n",
    "    state_next = states_over_time[-1,:] + dt*derivs_with_boosters(states_over_time[-1,:],time_array[i])\n",
    "    states_over_time = np.vstack((states_over_time, state_next))\n",
    "\n",
    "\n",
    "# Calculate final position error\n",
    "position_goal = np.asarray([5,5])\n",
    "final_position_error = position_goal - states_over_time[-1,0:2]\n",
    "\n",
    "mp.AddLinearConstraint(velocity_initial[0] <= 20)\n",
    "mp.AddLinearConstraint(velocity_initial[1] <= 2)\n",
    "\n",
    "mp.AddQuadraticCost(1 * velocity_initial.dot(velocity_initial))\n",
    "mp.AddQuadraticCost(1 * u_over_time[:,0].dot(u_over_time[:,0]))\n",
    "mp.AddQuadraticCost(1 * u_over_time[:,1].dot(u_over_time[:,1]))\n",
    "\n",
    "mp.AddLinearConstraint(states_over_time[-1,0] >= position_goal[0])\n",
    "mp.AddLinearConstraint(states_over_time[-1,0] <= position_goal[0])\n",
    "mp.AddLinearConstraint(states_over_time[-1,1] >= position_goal[1])\n",
    "mp.AddLinearConstraint(states_over_time[-1,1] <= position_goal[1])\n",
    "result = Solve(mp)\n",
    "\n",
    "print \"velocity_initial computed\", result.GetSolution(velocity_initial)\n",
    "u_over_time_solution = result.GetSolution(u_over_time)\n",
    "print \"u_over_time x cost\", np.sum(u_over_time_solution[:,0])\n",
    "print \"u_over_time y cost\", np.sum(u_over_time_solution[:,1])\n",
    "\n",
    "fig = plt.figure()\n",
    "\n",
    "plt.subplot(1, 2, 1)\n",
    "plt.title(\"Force in X\")\n",
    "plt.plot(u_over_time_solution[:,0])\n",
    "plt.subplot(1, 2, 2)\n",
    "plt.title(\"Force in Y\")\n",
    "plt.plot(u_over_time_solution[:,1])\n",
    "plt.show()\n",
    "\n",
    "optimal_initial_veloctiy = result.GetSolution(velocity_initial)\n",
    "u_over_time = result.GetSolution(u_over_time)\n",
    "total_u = np.vstack((u_over_time,np.zeros((900,2))))"
   ]
  },
  {
   "cell_type": "code",
   "execution_count": 56,
   "metadata": {},
   "outputs": [
    {
     "name": "stdout",
     "output_type": "stream",
     "text": [
      "(1001, 4)\n"
     ]
    },
    {
     "data": {
      "image/png": "[encoded data removed]",
      "text/plain": [
       "<Figure size 432x288 with 1 Axes>"
      ]
     },
     "metadata": {
      "needs_background": "light"
     },
     "output_type": "display_data"
    }
   ],
   "source": [
    "state_initial = np.asarray([0, 0, optimal_initial_veloctiy[0], optimal_initial_veloctiy[1]])\n",
    "\n",
    "states_over_time = np.asarray([state_initial])\n",
    "for i in range(num_time_steps):\n",
    "    state_next = states_over_time[-1,:] + dt*derivs_with_boosters(states_over_time[-1,:],time_array[i])\n",
    "    states_over_time = np.vstack((states_over_time, state_next))\n",
    "\n",
    "print states_over_time.shape\n",
    "    \n",
    "y = states_over_time\n",
    "\n",
    "rocket_position_x = y[:,0]\n",
    "rocket_position_y = y[:,1]\n",
    "\n",
    "fig, axes = plt.subplots(nrows=1,ncols=1)\n",
    "axes.plot(rocket_position_x, rocket_position_y)\n",
    "circ = Circle((rocket_position_x[-1],rocket_position_y[-1]), radius=0.1, facecolor='k', edgecolor='white', fill=True ,linewidth = 2.0, linestyle='solid')\n",
    "axes.add_patch(circ)\n",
    "circ = Circle((5,5), radius=0.1, facecolor='green', edgecolor='white', fill=True ,linewidth = 2.0, linestyle='solid')\n",
    "axes.add_patch(circ)\n",
    "axes.axis('equal')\n",
    "plt.show()"
   ]
  },
  {
   "cell_type": "markdown",
   "metadata": {},
   "source": [
    "# Good luck!\n",
    "\n",
    "Hopefully that was enough of an initial introduction to help get you started on the orbit transfer problem.\n",
    "\n",
    "Please ask questions on Piazza and/or come to office hours if you have any more questions."
   ]
  }
 ],
 "metadata": {
  "kernelspec": {
   "display_name": "Python 2",
   "language": "python",
   "name": "python2"
  },
  "language_info": {
   "codemirror_mode": {
    "name": "ipython",
    "version": 2
   },
   "file_extension": ".py",
   "mimetype": "text/x-python",
   "name": "python",
   "nbconvert_exporter": "python",
   "pygments_lexer": "ipython2",
   "version": "2.7.12"
  }
 },
 "nbformat": 4,
 "nbformat_minor": 2
}
