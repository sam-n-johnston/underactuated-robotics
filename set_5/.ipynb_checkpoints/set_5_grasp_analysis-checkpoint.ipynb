{
 "cells": [
  {
   "cell_type": "markdown",
   "metadata": {},
   "source": [
    "## 6.832: Problem Set #5 - Part 1 of 2\n",
    "\n",
    "Due on Friday, May 3, 2019 at 23:59.  See course website for submission details. Use Drake release tag `drake-20190423`, i.e. use this notebook via `./docker_run_notebook.sh drake-20190423 .`, or whichever script you need for your platform."
   ]
  },
  {
   "cell_type": "markdown",
   "metadata": {},
   "source": [
    "## Analyzing Manipulation via Optimization\n",
    "\n",
    "In the first part of this problem set, we will do a couple simple analyses of: \"which grasps are good?\"  In the second part of the problem set, we'll use these good grasps to do a dynamic manipulation task.\n",
    "\n",
    "### Force Closure\n",
    "\n",
    "Force closure is an important concept in manipulation. Given a configuration with a robot grasping an object at some set of contact points, we say there is <i>force closure</i> if the robot can exert an arbitrary force and torque on the object by applying forces at the contact points. Note that for this problem, we will not consider the kinematics or dynamics of the robot itself--merely the quality of the grasp, as determined by the contact points.\n",
    "\n",
    "<p align=\"center\">\n",
    "  <img src=\"closure.png\" width=\"350\"/>\n",
    "</p>\n",
    "\n",
    "For simplicity, we will consider a planar model, with contact forces $f_i \\in \\mathbb{R}^2$.\n",
    "Write each force in its own frame of the contact, so the set of feasible forces within the friction cone is expressed as $f_i = \\begin{bmatrix} f_{i,x} \\\\ f_{i,z} \\end{bmatrix}$ with $|f_{i,x}| \\leq \\mu f_{i,z}$ and $f_{i,z} \\geq 0$, observing that these can be rewritten as linear constraints. \n",
    "\n",
    "Note that a force $f_i$ has $f_{i,x}$ in the tangential direction to the surface it is touching ($t_i$ is a unit vector tangential to the surface) and $f_{i,z}$ is in the direction of the normal component $n_i$ of the surface.  The above figure depicts three contact points, where for one of the contact points, the friction cone is shown (bottom left), for one the normal and tangential vectors to the surface are shown (bottom right), and for the top one the position vector $r_i$ from the center of mass is shown. If you'd like to read more about force closure, here is a [useful reference](https://www.springer.com/cda/content/document/cda_downloaddocument/9783319018324-c2.pdf?SGWID=0-0-45-1432939-p175383086).\n",
    "\n",
    "The net wrench $w$ (the combined forces and torques) on the object is $w = \\begin{bmatrix} \\sum_i (f_{i,x}t_i + f_{i,z}n_i) \\\\ \\sum_i r_i \\times (f_{i,x}t_i + f_{i,z}n_i) \\end{bmatrix}$.\n",
    "\n",
    "We can see that we can write $w = G f$, for some matrix $G$ (depending on $r_i,n_i,t_i$) where $f$ is the stacked vector of forces.  Notice carefully how we get that, for our 2D problem, $w$ ends up being of dimension 3.  What is the dimension of $f_{i,x}$? How about $t_i$? \n",
    "\n",
    "It can also be shown that the question of force closure can be reduced to this problem: \n",
    "<ul>\n",
    "  <li>Check that $G$ is full row rank,</li>\n",
    "  <li>find $f$ such that $Gf=0$</li>\n",
    "  <li>and $f$ is in the <i>interior</i> of the set of allowable forces (i.e., in friction cone). Otherwise stated, $f_{i,z} > 0, \\quad |f_{i,x}| < \\mu f_{i,z} \\quad$ for all $i$.</li>\n",
    "</ul>\n",
    "\n",
    "\n",
    "The rank condition can easily be checked, but the other two points are slightly more difficult. After checking that $G$ is full rank, we would like to write a Linear Program (LP) that checks, for some $r_i$'s, whether or not a grasp has force closure.\n",
    "Recall that an LP is an optimization of the form:\n",
    "\n",
    "\\begin{align}\n",
    "\\min_z & \\quad c^Tz \\\\\n",
    "\\text{s.t.} & \\quad Az = b \\\\\n",
    "& \\quad Cz \\leq d\n",
    "\\end{align}\n",
    "\n",
    "For some matrices $A$ and $C$ and vectors $c,b,d$.  Also recall that by using a framework like Drake's MathematicalProgram, you do not have to specifically form a matrix $c$, $A$, $b$, $C$, $d$ above -- you can instead just add linear constraints, equalities, and costs, and they will get parsed into the form that the solvers like. \n"
   ]
  },
  {
   "cell_type": "markdown",
   "metadata": {},
   "source": [
    "## Force closure via an LP\n",
    "\n",
    "Write an LP such that $c^Tz = 0$ if and only if there is <b>no</b> force closure, and $c^Tz < 0$ when there is force closure.\n",
    "\n",
    "In particular, you need to implement this function signature in `force_closure.py`:\n",
    "\n",
    "```python\n",
    "def achieves_force_closure(points, normals, mu):\n",
    "    \"\"\"\n",
    "    This will return True or False based on whether or not the given points, normals, \n",
    "    and friction coefficient mu satisfy force closure.\n",
    "    \n",
    "    See grasp_metrics.py for more documentation.\n",
    "    \"\"\"\n",
    "\n",
    "```\n",
    "\n",
    "HINT: The force closure formulation asked for strict inequalities ($>$ and $<$) but the LP has only $\\leq$. Introduce a slack variable $\\gamma \\leq 0$, constrain it to be between $-1$ and $0$, and then try to minimize it.  (In other words, let $z = \\begin{bmatrix} \\gamma \\\\ f \\end{bmatrix}$ and $c$ such that $c^Tz=\\gamma$). Incorporate $\\gamma$ into the constraints above such that $\\gamma < 0$ implies that $f_{i,z} > 0$ and $|f_{i,x}| < \\mu f_{i,z}$ for all $i$\n",
    "\n",
    "Also make sure that all decision variables in the LP are bounded (that there is no feasible $z$ such that $c^Tz = \\infty$)!\n",
    "\n",
    "### Solver tips:\n",
    "\n",
    "To make the solver work well (it should work very well for this LP, once posed correctly), please keep these in mind:\n",
    "\n",
    "1. This is an LP, so if you use Drake's MathematicalProgram, it should only be receiving calls of `AddLinearConstraint()` and `AddLinearCost()`, or equivalent.  \n",
    "2. For any arrays, you still must iterate over the array and set contraints 1-by-1 for each element\n",
    "3. No slack other than the specific $\\gamma$ slack variable as described should be used.\n",
    "4. If you have an equality constraint, it will work fine on this problem to say `AddLinearConstraint(a == b)`\n",
    "4. For this problem the solver needs bounds on all decision variables, even if they are not in the cost. Recommend:\n",
    "\n",
    "    1. Lower-bound $\\gamma$ to be -1 and upper-bound it to be 0.\n",
    "    2. Add an upper and lower bound on the forces decision variables to be $>= -1000$ and $<= 1000$."
   ]
  },
  {
   "cell_type": "markdown",
   "metadata": {},
   "source": [
    "---\n",
    "\n",
    "We have decided to help you out and already compute the G matrix for you (see `get_G()` in `grasp_metrics.py`).\n",
    "\n",
    "We've also provided code to help you plot the inputs to your `achive_force_closure()` function, to help with intuition on whether or not your implementation is working."
   ]
  },
  {
   "cell_type": "code",
   "execution_count": 1,
   "metadata": {},
   "outputs": [],
   "source": [
    "%reload_ext autoreload\n",
    "%autoreload 2\n",
    "import numpy as np\n",
    "from grasp_metrics import plot_points_with_normals"
   ]
  },
  {
   "cell_type": "code",
   "execution_count": 40,
   "metadata": {},
   "outputs": [
    {
     "data": {
      "image/png": "[encoded data removed]",
      "text/plain": [
       "<Figure size 432x288 with 1 Axes>"
      ]
     },
     "metadata": {
      "needs_background": "light"
     },
     "output_type": "display_data"
    }
   ],
   "source": [
    "r1 = np.asarray([0.1, 1])\n",
    "r2 = np.asarray([0.3,-0.4])\n",
    "r3 = np.asarray([-0.7,-0.5])\n",
    "points = [r1, r2, r3]\n",
    "n1 = np.asarray([-0.1,-1.1])\n",
    "n1 = n1 / np.linalg.norm(n1)\n",
    "n2 = np.asarray([-0.4,1.1])\n",
    "n2 = n2 / np.linalg.norm(n2)\n",
    "n3 = np.asarray([0.8,1.1])\n",
    "n3 = n3 / np.linalg.norm(n3)\n",
    "normals = [n1, n2, n3]\n",
    "mu = 1.5\n",
    "\n",
    "plot_points_with_normals(points, normals, mu)"
   ]
  },
  {
   "cell_type": "markdown",
   "metadata": {},
   "source": [
    "It should be not too hard to see that we'd expect the above three contact points to achieve force closure."
   ]
  },
  {
   "cell_type": "code",
   "execution_count": 39,
   "metadata": {},
   "outputs": [
    {
     "name": "stdout",
     "output_type": "stream",
     "text": [
      "Number of Points: 3\n",
      "Is Full Row Rank? => True\n",
      "forces_solution: [ 0.  0.  0.  0.  0.  0.]\n",
      "w: [ 0.  0.  0.]\n",
      "y_solution: [ 0.]\n",
      "False\n"
     ]
    }
   ],
   "source": [
    "from grasp_metrics import achieves_force_closure\n",
    "print achieves_force_closure(points, normals, mu)"
   ]
  },
  {
   "cell_type": "markdown",
   "metadata": {},
   "source": [
    "Here's an even simpler set of contact points that should definitely achieve force closure, even with a much smaller friction coefficient."
   ]
  },
  {
   "cell_type": "code",
   "execution_count": 34,
   "metadata": {},
   "outputs": [
    {
     "data": {
      "image/png": "[encoded data removed]",
      "text/plain": [
       "<Figure size 432x288 with 1 Axes>"
      ]
     },
     "metadata": {
      "needs_background": "light"
     },
     "output_type": "display_data"
    },
    {
     "name": "stdout",
     "output_type": "stream",
     "text": [
      "Number of Points: 2\n",
      "Is Full Row Rank? => True\n",
      "forces_solution: [-0.1  1.   0.1  1. ]\n",
      "w: [  0.00000000e+00   0.00000000e+00   2.77555756e-17]\n",
      "y_solution: [-1.]\n",
      "True\n"
     ]
    }
   ],
   "source": [
    "points  = [np.asarray([-1.0,0.20]), np.asarray([1.0,0.0])]\n",
    "n1 = np.asarray([1.0,0.0])\n",
    "n1 = n1 / np.linalg.norm(n1)\n",
    "n2 = np.asarray([-1.0,0.0])\n",
    "n2 = n2 / np.linalg.norm(n2)\n",
    "normals = [n1, n2]\n",
    "mu = 0.1\n",
    "plot_points_with_normals(points, normals, mu)\n",
    "print achieves_force_closure(points, normals, mu)"
   ]
  },
  {
   "cell_type": "markdown",
   "metadata": {},
   "source": [
    "You may have noticed that force closure is a binary, \"is or is not\" quality of a set of grasp points.\n",
    "\n",
    "What if we would like to compare different grasps, and have an idea of which one is better?  Simply put, we'd like some scalar that is the \"score\" of a certain grasp.\n",
    "\n",
    "There are many different such analytic grasp metrics, but a simple one we will use is the **volume of the convex hull of the grasp points**.  Notice here that we are using \"volume\" as a [generalization to n-dimensions](https://en.wikipedia.org/wiki/Volume_of_an_n-ball) from what it is in 3D.  (I.e., in 2D, this is the \"area\".) This idea is briefly referred to in Section 3.2.2 here: https://personalrobotics.ri.cmu.edu/files/courses/papers/SuarezEtal06.pdf  \n",
    "\n",
    "## Volume of the convex hull of grasp points\n",
    "\n",
    "This should be much simpler than the force closure component from before, you just need to implement this function:\n",
    "\n",
    "```python\n",
    "def compute_convex_hull_volume(points):\n",
    "    \"\"\"\n",
    "    Return the volume of the convex hull of the grasp points.  Should return 0\n",
    "    for only two grasp points.\n",
    "    \n",
    "    See force_closure.py for more documentation.\n",
    "    \"\"\"\n",
    "```\n",
    "\n",
    "Notice also that while force closure depended on our friction coefficient, and normals, here this metric depends on neither.  Notice also that if we have only two points, the volume is always zero.  What do you think, does this make it an incomplete metric?  It definitely is, but it's a simple way to help us get reasonable multi-finger grasps."
   ]
  },
  {
   "cell_type": "markdown",
   "metadata": {},
   "source": [
    "To make sure we have a sense of what a convex hull looks like, here is a plot taken straight from the [scipy documentation example](https://docs.scipy.org/doc/scipy/reference/generated/scipy.spatial.ConvexHull.html):"
   ]
  },
  {
   "cell_type": "code",
   "execution_count": null,
   "metadata": {},
   "outputs": [],
   "source": [
    "from scipy.spatial import ConvexHull\n",
    "points = np.random.rand(10, 2)   # 30 random points in 2-D\n",
    "hull = ConvexHull(points)\n",
    "import matplotlib.pyplot as plt\n",
    "plt.plot(points[:,0], points[:,1], 'o')\n",
    "for simplex in hull.simplices:\n",
    "    plt.plot(points[simplex, 0], points[simplex, 1], 'k-')\n",
    "plt.plot(points[hull.vertices,0], points[hull.vertices,1], 'r--', lw=2)\n",
    "plt.plot(points[hull.vertices[0],0], points[hull.vertices[0],1], 'ro')\n",
    "plt.show()"
   ]
  },
  {
   "cell_type": "markdown",
   "metadata": {},
   "source": [
    "Hint: if you briefly look over the scipy ConvexHull documentation, then this problem should be very easy."
   ]
  },
  {
   "cell_type": "markdown",
   "metadata": {},
   "source": [
    "If we constrain our grasps to be on the unit circle, then we should get an expected grasp that spreads out around the circle."
   ]
  },
  {
   "cell_type": "code",
   "execution_count": null,
   "metadata": {},
   "outputs": [],
   "source": [
    "from grasp_metrics import compute_convex_hull_volume\n",
    "\n",
    "print \"Initial random grasp points\"\n",
    "random_thetas = [np.random.rand()*2*np.pi for _ in range(3)]\n",
    "random_points = [np.array([np.sin(theta), np.cos(theta)]) for theta in random_thetas]\n",
    "normals      = [-x/np.linalg.norm(x) for x in random_points]\n",
    "plot_points_with_normals(random_points, normals, 0.1)\n",
    "volume  = compute_convex_hull_volume(random_points)\n",
    "\"Initial volume\", volume\n",
    "\n",
    "print \"Randomly sampling grasp points\"\n",
    "best_volume = volume\n",
    "best_points = random_points\n",
    "normals_of_best_points = normals\n",
    "\n",
    "for j in range(100):\n",
    "    random_thetas = [np.random.rand()*2*np.pi for _ in range(3)]\n",
    "    random_points = [np.array([np.sin(theta), np.cos(theta)]) for theta in random_thetas]\n",
    "    normals      = [-x/np.linalg.norm(x) for x in random_points]\n",
    "    volume = compute_convex_hull_volume(random_points)\n",
    "    if volume > best_volume:\n",
    "        best_volume = volume\n",
    "        best_points = random_points\n",
    "        normals_of_best_points = normals\n",
    "\n",
    "print \"Best grasp points found\"\n",
    "plot_points_with_normals(best_points, normals_of_best_points, 0.1)\n",
    "print \"best_volume\", best_volume"
   ]
  },
  {
   "cell_type": "markdown",
   "metadata": {},
   "source": [
    "## Criterion of the largest ball in Grasp Wrench Space\n",
    "\n",
    "An even better metric is to use \"what is the smallest wrench that cannot be resisted?\", and try to make this large.\n",
    "\n",
    "Given that we can already compute $G$, and $w = Gf$, if we put constraints on how large each of our $f$ can be, then it is not too difficult to compute the polygedron of all possible $w$.  In particular, if the sum of each $f_{i,z}$ force is constrained to be less than 1, i.e. $\\sum_{i=1}^{N}f_{i,z}<1$, then we can compute the polyhedron of all possible $w$ by iterating over each $f_i$, setting it to be 1 and the others 0, and taking the convex hull of the resultant $w_i$ points.  This set $\\mathcal{P}$ is sometimes referred to as Grasp Wrench Space.  You can read more in [Section 3.3.1](https://personalrobotics.ri.cmu.edu/files/courses/papers/SuarezEtal06.pdf) of Suarez et al.. We then care about the largest ball of external wrenches that can be resisted, by appling our own counter-wrench.  This turns out to be the largest ball (sphere in our 3D wrench space for a 2D world) that can be inscribed inside the Grasp Wrench Space, where $\\partial P$ is the boundary of $P$.  I.e., we want to maximize this metric:\n",
    "\n",
    "$$ Q = \\underset{w \\in \\partial P}{min} \\ \\  ||w||$$\n",
    "\n",
    "This isn't too difficult to compute: we would just need to compute the polyhedron of grasp wrench space, and then inscribe the largest ball we can.  But we'd rather you focus more time on your final projects, and the simple \"area of convux hull of grasp points\" metric will work fine for our simple objects we'll manipulate in this project."
   ]
  },
  {
   "cell_type": "markdown",
   "metadata": {},
   "source": [
    "## Run Tests"
   ]
  },
  {
   "cell_type": "code",
   "execution_count": null,
   "metadata": {},
   "outputs": [],
   "source": [
    "import os\n",
    "# Run the tests\n",
    "os.popen(\"python test_set_5.py test_results.json\")\n",
    "\n",
    "# Print the results json for review\n",
    "import test_set_5\n",
    "print test_set_5.pretty_format_json_results(\"test_results.json\")"
   ]
  },
  {
   "cell_type": "code",
   "execution_count": null,
   "metadata": {},
   "outputs": [],
   "source": []
  }
 ],
 "metadata": {
  "kernelspec": {
   "display_name": "Python 2",
   "language": "python",
   "name": "python2"
  },
  "language_info": {
   "codemirror_mode": {
    "name": "ipython",
    "version": 2
   },
   "file_extension": ".py",
   "mimetype": "text/x-python",
   "name": "python",
   "nbconvert_exporter": "python",
   "pygments_lexer": "ipython2",
   "version": "2.7.12"
  }
 },
 "nbformat": 4,
 "nbformat_minor": 2
}
